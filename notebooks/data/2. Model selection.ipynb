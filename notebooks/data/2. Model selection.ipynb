{
 "cells": [
  {
   "attachments": {},
   "cell_type": "markdown",
   "id": "92e48866",
   "metadata": {},
   "source": [
    "## Model Training"
   ]
  },
  {
   "cell_type": "markdown",
   "id": "25791a74",
   "metadata": {},
   "source": [
    "#### 1.1 Import Data and Required Packages\n",
    "##### Importing Pandas, Numpy, Matplotlib, Seaborn and Warings Library."
   ]
  },
  {
   "cell_type": "code",
   "execution_count": 6,
   "metadata": {},
   "outputs": [
    {
     "name": "stdout",
     "output_type": "stream",
     "text": [
      "Requirement already satisfied: tensorflow in c:\\users\\robjo\\appdata\\roaming\\python\\python38\\site-packages (2.11.0)\n",
      "Requirement already satisfied: tensorflow-intel==2.11.0 in c:\\users\\robjo\\appdata\\roaming\\python\\python38\\site-packages (from tensorflow) (2.11.0)\n",
      "Requirement already satisfied: absl-py>=1.0.0 in c:\\users\\robjo\\mlproject\\venv\\lib\\site-packages (from tensorflow-intel==2.11.0->tensorflow) (2.0.0)\n",
      "Requirement already satisfied: astunparse>=1.6.0 in c:\\users\\robjo\\mlproject\\venv\\lib\\site-packages (from tensorflow-intel==2.11.0->tensorflow) (1.6.3)\n",
      "Requirement already satisfied: flatbuffers>=2.0 in c:\\users\\robjo\\mlproject\\venv\\lib\\site-packages (from tensorflow-intel==2.11.0->tensorflow) (23.5.26)\n",
      "Requirement already satisfied: gast<=0.4.0,>=0.2.1 in c:\\users\\robjo\\mlproject\\venv\\lib\\site-packages (from tensorflow-intel==2.11.0->tensorflow) (0.4.0)\n",
      "Requirement already satisfied: google-pasta>=0.1.1 in c:\\users\\robjo\\mlproject\\venv\\lib\\site-packages (from tensorflow-intel==2.11.0->tensorflow) (0.2.0)\n",
      "Requirement already satisfied: h5py>=2.9.0 in c:\\users\\robjo\\mlproject\\venv\\lib\\site-packages (from tensorflow-intel==2.11.0->tensorflow) (3.10.0)\n",
      "Requirement already satisfied: libclang>=13.0.0 in c:\\users\\robjo\\mlproject\\venv\\lib\\site-packages (from tensorflow-intel==2.11.0->tensorflow) (16.0.6)\n",
      "Requirement already satisfied: numpy>=1.20 in c:\\users\\robjo\\appdata\\roaming\\python\\python38\\site-packages (from tensorflow-intel==2.11.0->tensorflow) (1.23.4)\n",
      "Requirement already satisfied: opt-einsum>=2.3.2 in c:\\users\\robjo\\mlproject\\venv\\lib\\site-packages (from tensorflow-intel==2.11.0->tensorflow) (3.3.0)\n",
      "Requirement already satisfied: packaging in c:\\users\\robjo\\mlproject\\venv\\lib\\site-packages (from tensorflow-intel==2.11.0->tensorflow) (23.1)\n",
      "Requirement already satisfied: protobuf<3.20,>=3.9.2 in c:\\users\\robjo\\mlproject\\venv\\lib\\site-packages (from tensorflow-intel==2.11.0->tensorflow) (3.19.6)\n",
      "Requirement already satisfied: setuptools in c:\\users\\robjo\\mlproject\\venv\\lib\\site-packages (from tensorflow-intel==2.11.0->tensorflow) (68.0.0)\n",
      "Requirement already satisfied: six>=1.12.0 in c:\\users\\robjo\\mlproject\\venv\\lib\\site-packages (from tensorflow-intel==2.11.0->tensorflow) (1.16.0)\n",
      "Requirement already satisfied: termcolor>=1.1.0 in c:\\users\\robjo\\mlproject\\venv\\lib\\site-packages (from tensorflow-intel==2.11.0->tensorflow) (2.3.0)\n",
      "Requirement already satisfied: typing-extensions>=3.6.6 in c:\\users\\robjo\\mlproject\\venv\\lib\\site-packages (from tensorflow-intel==2.11.0->tensorflow) (4.7.1)\n",
      "Requirement already satisfied: wrapt>=1.11.0 in c:\\users\\robjo\\mlproject\\venv\\lib\\site-packages (from tensorflow-intel==2.11.0->tensorflow) (1.16.0)\n",
      "Requirement already satisfied: grpcio<2.0,>=1.24.3 in c:\\users\\robjo\\mlproject\\venv\\lib\\site-packages (from tensorflow-intel==2.11.0->tensorflow) (1.59.3)\n",
      "Requirement already satisfied: tensorboard<2.12,>=2.11 in c:\\users\\robjo\\mlproject\\venv\\lib\\site-packages (from tensorflow-intel==2.11.0->tensorflow) (2.11.2)\n",
      "Requirement already satisfied: tensorflow-estimator<2.12,>=2.11.0 in c:\\users\\robjo\\mlproject\\venv\\lib\\site-packages (from tensorflow-intel==2.11.0->tensorflow) (2.11.0)\n",
      "Requirement already satisfied: keras<2.12,>=2.11.0 in c:\\users\\robjo\\mlproject\\venv\\lib\\site-packages (from tensorflow-intel==2.11.0->tensorflow) (2.11.0)\n",
      "Requirement already satisfied: tensorflow-io-gcs-filesystem>=0.23.1 in c:\\users\\robjo\\mlproject\\venv\\lib\\site-packages (from tensorflow-intel==2.11.0->tensorflow) (0.31.0)\n",
      "Requirement already satisfied: wheel<1.0,>=0.23.0 in c:\\users\\robjo\\mlproject\\venv\\lib\\site-packages (from astunparse>=1.6.0->tensorflow-intel==2.11.0->tensorflow) (0.41.2)\n",
      "Requirement already satisfied: google-auth<3,>=1.6.3 in c:\\users\\robjo\\mlproject\\venv\\lib\\site-packages (from tensorboard<2.12,>=2.11->tensorflow-intel==2.11.0->tensorflow) (2.23.4)\n",
      "Requirement already satisfied: google-auth-oauthlib<0.5,>=0.4.1 in c:\\users\\robjo\\mlproject\\venv\\lib\\site-packages (from tensorboard<2.12,>=2.11->tensorflow-intel==2.11.0->tensorflow) (0.4.6)\n",
      "Requirement already satisfied: markdown>=2.6.8 in c:\\users\\robjo\\mlproject\\venv\\lib\\site-packages (from tensorboard<2.12,>=2.11->tensorflow-intel==2.11.0->tensorflow) (3.5.1)\n",
      "Requirement already satisfied: requests<3,>=2.21.0 in c:\\users\\robjo\\mlproject\\venv\\lib\\site-packages (from tensorboard<2.12,>=2.11->tensorflow-intel==2.11.0->tensorflow) (2.31.0)\n",
      "Requirement already satisfied: tensorboard-data-server<0.7.0,>=0.6.0 in c:\\users\\robjo\\mlproject\\venv\\lib\\site-packages (from tensorboard<2.12,>=2.11->tensorflow-intel==2.11.0->tensorflow) (0.6.1)\n",
      "Requirement already satisfied: tensorboard-plugin-wit>=1.6.0 in c:\\users\\robjo\\mlproject\\venv\\lib\\site-packages (from tensorboard<2.12,>=2.11->tensorflow-intel==2.11.0->tensorflow) (1.8.1)\n",
      "Requirement already satisfied: werkzeug>=1.0.1 in c:\\users\\robjo\\mlproject\\venv\\lib\\site-packages (from tensorboard<2.12,>=2.11->tensorflow-intel==2.11.0->tensorflow) (3.0.1)\n",
      "Requirement already satisfied: cachetools<6.0,>=2.0.0 in c:\\users\\robjo\\mlproject\\venv\\lib\\site-packages (from google-auth<3,>=1.6.3->tensorboard<2.12,>=2.11->tensorflow-intel==2.11.0->tensorflow) (5.3.2)\n",
      "Requirement already satisfied: pyasn1-modules>=0.2.1 in c:\\users\\robjo\\mlproject\\venv\\lib\\site-packages (from google-auth<3,>=1.6.3->tensorboard<2.12,>=2.11->tensorflow-intel==2.11.0->tensorflow) (0.3.0)\n",
      "Requirement already satisfied: rsa<5,>=3.1.4 in c:\\users\\robjo\\mlproject\\venv\\lib\\site-packages (from google-auth<3,>=1.6.3->tensorboard<2.12,>=2.11->tensorflow-intel==2.11.0->tensorflow) (4.9)\n",
      "Requirement already satisfied: requests-oauthlib>=0.7.0 in c:\\users\\robjo\\mlproject\\venv\\lib\\site-packages (from google-auth-oauthlib<0.5,>=0.4.1->tensorboard<2.12,>=2.11->tensorflow-intel==2.11.0->tensorflow) (1.3.1)\n",
      "Requirement already satisfied: importlib-metadata>=4.4 in c:\\users\\robjo\\mlproject\\venv\\lib\\site-packages (from markdown>=2.6.8->tensorboard<2.12,>=2.11->tensorflow-intel==2.11.0->tensorflow) (6.0.0)\n",
      "Requirement already satisfied: charset-normalizer<4,>=2 in c:\\users\\robjo\\mlproject\\venv\\lib\\site-packages (from requests<3,>=2.21.0->tensorboard<2.12,>=2.11->tensorflow-intel==2.11.0->tensorflow) (3.3.2)\n",
      "Requirement already satisfied: idna<4,>=2.5 in c:\\users\\robjo\\mlproject\\venv\\lib\\site-packages (from requests<3,>=2.21.0->tensorboard<2.12,>=2.11->tensorflow-intel==2.11.0->tensorflow) (3.6)\n",
      "Requirement already satisfied: urllib3<3,>=1.21.1 in c:\\users\\robjo\\mlproject\\venv\\lib\\site-packages (from requests<3,>=2.21.0->tensorboard<2.12,>=2.11->tensorflow-intel==2.11.0->tensorflow) (2.1.0)\n",
      "Requirement already satisfied: certifi>=2017.4.17 in c:\\users\\robjo\\mlproject\\venv\\lib\\site-packages (from requests<3,>=2.21.0->tensorboard<2.12,>=2.11->tensorflow-intel==2.11.0->tensorflow) (2023.11.17)\n",
      "Requirement already satisfied: MarkupSafe>=2.1.1 in c:\\users\\robjo\\mlproject\\venv\\lib\\site-packages (from werkzeug>=1.0.1->tensorboard<2.12,>=2.11->tensorflow-intel==2.11.0->tensorflow) (2.1.3)\n",
      "Requirement already satisfied: zipp>=0.5 in c:\\users\\robjo\\mlproject\\venv\\lib\\site-packages (from importlib-metadata>=4.4->markdown>=2.6.8->tensorboard<2.12,>=2.11->tensorflow-intel==2.11.0->tensorflow) (3.11.0)\n",
      "Requirement already satisfied: pyasn1<0.6.0,>=0.4.6 in c:\\users\\robjo\\mlproject\\venv\\lib\\site-packages (from pyasn1-modules>=0.2.1->google-auth<3,>=1.6.3->tensorboard<2.12,>=2.11->tensorflow-intel==2.11.0->tensorflow) (0.5.1)\n",
      "Requirement already satisfied: oauthlib>=3.0.0 in c:\\users\\robjo\\mlproject\\venv\\lib\\site-packages (from requests-oauthlib>=0.7.0->google-auth-oauthlib<0.5,>=0.4.1->tensorboard<2.12,>=2.11->tensorflow-intel==2.11.0->tensorflow) (3.2.2)\n",
      "Requirement already satisfied: dill in c:\\users\\robjo\\mlproject\\venv\\lib\\site-packages (0.3.7)\n",
      "Requirement already satisfied: xgboost in c:\\users\\robjo\\mlproject\\venv\\lib\\site-packages (2.0.2)\n",
      "Requirement already satisfied: numpy in c:\\users\\robjo\\appdata\\roaming\\python\\python38\\site-packages (from xgboost) (1.23.4)\n",
      "Requirement already satisfied: scipy in c:\\users\\robjo\\mlproject\\venv\\lib\\site-packages (from xgboost) (1.10.1)\n",
      "Requirement already satisfied: lightgbm in c:\\users\\robjo\\mlproject\\venv\\lib\\site-packages (4.1.0)\n",
      "Requirement already satisfied: numpy in c:\\users\\robjo\\appdata\\roaming\\python\\python38\\site-packages (from lightgbm) (1.23.4)\n",
      "Requirement already satisfied: scipy in c:\\users\\robjo\\mlproject\\venv\\lib\\site-packages (from lightgbm) (1.10.1)\n"
     ]
    }
   ],
   "source": [
    "!pip install tensorflow\n",
    "!pip install dill\n",
    "!pip install xgboost\n",
    "!pip install lightgbm\n",
    "\n"
   ]
  },
  {
   "cell_type": "code",
   "execution_count": 2,
   "id": "b080dfb2",
   "metadata": {},
   "outputs": [],
   "source": [
    "# Basic Import\n",
    "import numpy as np\n",
    "import pandas as pd\n",
    "import matplotlib.pyplot as plt \n",
    "import seaborn as sns\n",
    "# Modelling\n",
    "from sklearn.metrics import mean_squared_error, r2_score\n",
    "from sklearn.neighbors import KNeighborsRegressor\n",
    "from sklearn.tree import DecisionTreeRegressor\n",
    "from sklearn.ensemble import RandomForestRegressor,AdaBoostRegressor\n",
    "from sklearn.linear_model import LinearRegression, Ridge,Lasso\n",
    "from sklearn.metrics import r2_score, mean_absolute_error, mean_squared_error\n",
    "from sklearn.model_selection import RandomizedSearchCV\n",
    "from xgboost import XGBRegressor\n",
    "import warnings"
   ]
  },
  {
   "cell_type": "markdown",
   "id": "e45079ad",
   "metadata": {},
   "source": [
    "#### Import the CSV Data as Pandas DataFrame"
   ]
  },
  {
   "cell_type": "code",
   "execution_count": 3,
   "id": "e11c6255",
   "metadata": {},
   "outputs": [
    {
     "data": {
      "text/html": [
       "<div>\n",
       "<style scoped>\n",
       "    .dataframe tbody tr th:only-of-type {\n",
       "        vertical-align: middle;\n",
       "    }\n",
       "\n",
       "    .dataframe tbody tr th {\n",
       "        vertical-align: top;\n",
       "    }\n",
       "\n",
       "    .dataframe thead th {\n",
       "        text-align: right;\n",
       "    }\n",
       "</style>\n",
       "<table border=\"1\" class=\"dataframe\">\n",
       "  <thead>\n",
       "    <tr style=\"text-align: right;\">\n",
       "      <th></th>\n",
       "      <th>QUARTER</th>\n",
       "      <th>MONTH</th>\n",
       "      <th>DAY_OF_MONTH</th>\n",
       "      <th>DAY_OF_WEEK</th>\n",
       "      <th>OP_UNIQUE_CARRIER</th>\n",
       "      <th>ORIGIN</th>\n",
       "      <th>DEST</th>\n",
       "      <th>CRS_DEP_TIME</th>\n",
       "      <th>DEP_DELAY_NEW</th>\n",
       "    </tr>\n",
       "  </thead>\n",
       "  <tbody>\n",
       "    <tr>\n",
       "      <th>0</th>\n",
       "      <td>3</td>\n",
       "      <td>8</td>\n",
       "      <td>1</td>\n",
       "      <td>1</td>\n",
       "      <td>AA</td>\n",
       "      <td>JFK</td>\n",
       "      <td>BOS</td>\n",
       "      <td>2135</td>\n",
       "      <td>0.0</td>\n",
       "    </tr>\n",
       "    <tr>\n",
       "      <th>1</th>\n",
       "      <td>3</td>\n",
       "      <td>8</td>\n",
       "      <td>1</td>\n",
       "      <td>1</td>\n",
       "      <td>AA</td>\n",
       "      <td>JFK</td>\n",
       "      <td>LAX</td>\n",
       "      <td>730</td>\n",
       "      <td>0.0</td>\n",
       "    </tr>\n",
       "    <tr>\n",
       "      <th>2</th>\n",
       "      <td>3</td>\n",
       "      <td>8</td>\n",
       "      <td>1</td>\n",
       "      <td>1</td>\n",
       "      <td>AA</td>\n",
       "      <td>JFK</td>\n",
       "      <td>LAX</td>\n",
       "      <td>1845</td>\n",
       "      <td>16.0</td>\n",
       "    </tr>\n",
       "    <tr>\n",
       "      <th>3</th>\n",
       "      <td>3</td>\n",
       "      <td>8</td>\n",
       "      <td>1</td>\n",
       "      <td>1</td>\n",
       "      <td>AA</td>\n",
       "      <td>JFK</td>\n",
       "      <td>LAX</td>\n",
       "      <td>1130</td>\n",
       "      <td>0.0</td>\n",
       "    </tr>\n",
       "    <tr>\n",
       "      <th>4</th>\n",
       "      <td>3</td>\n",
       "      <td>8</td>\n",
       "      <td>1</td>\n",
       "      <td>1</td>\n",
       "      <td>AA</td>\n",
       "      <td>JFK</td>\n",
       "      <td>LAX</td>\n",
       "      <td>1030</td>\n",
       "      <td>0.0</td>\n",
       "    </tr>\n",
       "    <tr>\n",
       "      <th>...</th>\n",
       "      <td>...</td>\n",
       "      <td>...</td>\n",
       "      <td>...</td>\n",
       "      <td>...</td>\n",
       "      <td>...</td>\n",
       "      <td>...</td>\n",
       "      <td>...</td>\n",
       "      <td>...</td>\n",
       "      <td>...</td>\n",
       "    </tr>\n",
       "    <tr>\n",
       "      <th>310726</th>\n",
       "      <td>3</td>\n",
       "      <td>8</td>\n",
       "      <td>31</td>\n",
       "      <td>4</td>\n",
       "      <td>WN</td>\n",
       "      <td>LGA</td>\n",
       "      <td>TPA</td>\n",
       "      <td>1820</td>\n",
       "      <td>0.0</td>\n",
       "    </tr>\n",
       "    <tr>\n",
       "      <th>310727</th>\n",
       "      <td>3</td>\n",
       "      <td>8</td>\n",
       "      <td>31</td>\n",
       "      <td>4</td>\n",
       "      <td>WN</td>\n",
       "      <td>LGA</td>\n",
       "      <td>STL</td>\n",
       "      <td>1525</td>\n",
       "      <td>3.0</td>\n",
       "    </tr>\n",
       "    <tr>\n",
       "      <th>310728</th>\n",
       "      <td>3</td>\n",
       "      <td>8</td>\n",
       "      <td>31</td>\n",
       "      <td>4</td>\n",
       "      <td>WN</td>\n",
       "      <td>LGA</td>\n",
       "      <td>BNA</td>\n",
       "      <td>1855</td>\n",
       "      <td>9.0</td>\n",
       "    </tr>\n",
       "    <tr>\n",
       "      <th>310729</th>\n",
       "      <td>3</td>\n",
       "      <td>8</td>\n",
       "      <td>31</td>\n",
       "      <td>4</td>\n",
       "      <td>WN</td>\n",
       "      <td>LGA</td>\n",
       "      <td>ATL</td>\n",
       "      <td>1055</td>\n",
       "      <td>18.0</td>\n",
       "    </tr>\n",
       "    <tr>\n",
       "      <th>310730</th>\n",
       "      <td>3</td>\n",
       "      <td>8</td>\n",
       "      <td>31</td>\n",
       "      <td>4</td>\n",
       "      <td>WN</td>\n",
       "      <td>LGA</td>\n",
       "      <td>MDW</td>\n",
       "      <td>600</td>\n",
       "      <td>0.0</td>\n",
       "    </tr>\n",
       "  </tbody>\n",
       "</table>\n",
       "<p>310731 rows × 9 columns</p>\n",
       "</div>"
      ],
      "text/plain": [
       "        QUARTER  MONTH  DAY_OF_MONTH  DAY_OF_WEEK OP_UNIQUE_CARRIER ORIGIN  \\\n",
       "0             3      8             1            1                AA    JFK   \n",
       "1             3      8             1            1                AA    JFK   \n",
       "2             3      8             1            1                AA    JFK   \n",
       "3             3      8             1            1                AA    JFK   \n",
       "4             3      8             1            1                AA    JFK   \n",
       "...         ...    ...           ...          ...               ...    ...   \n",
       "310726        3      8            31            4                WN    LGA   \n",
       "310727        3      8            31            4                WN    LGA   \n",
       "310728        3      8            31            4                WN    LGA   \n",
       "310729        3      8            31            4                WN    LGA   \n",
       "310730        3      8            31            4                WN    LGA   \n",
       "\n",
       "       DEST  CRS_DEP_TIME  DEP_DELAY_NEW  \n",
       "0       BOS          2135            0.0  \n",
       "1       LAX           730            0.0  \n",
       "2       LAX          1845           16.0  \n",
       "3       LAX          1130            0.0  \n",
       "4       LAX          1030            0.0  \n",
       "...     ...           ...            ...  \n",
       "310726  TPA          1820            0.0  \n",
       "310727  STL          1525            3.0  \n",
       "310728  BNA          1855            9.0  \n",
       "310729  ATL          1055           18.0  \n",
       "310730  MDW           600            0.0  \n",
       "\n",
       "[310731 rows x 9 columns]"
      ]
     },
     "execution_count": 3,
     "metadata": {},
     "output_type": "execute_result"
    }
   ],
   "source": [
    "import pandas as pd\n",
    "\n",
    "# Hardcoding the file names\n",
    "file_names = [\n",
    "    'flights_cleaned.csv'\n",
    "]\n",
    "\n",
    "# Reading each file into a DataFrame\n",
    "dataframes = [pd.read_csv(file_name) for file_name in file_names]\n",
    "\n",
    "# Combining all DataFrames into a single DataFrame\n",
    "combined_df = pd.concat(dataframes, ignore_index=True)\n",
    "\n",
    "combined_df"
   ]
  },
  {
   "cell_type": "markdown",
   "id": "20634923",
   "metadata": {},
   "source": [
    "#### Show Top 5 Records"
   ]
  },
  {
   "cell_type": "markdown",
   "id": "fbd32281",
   "metadata": {},
   "source": [
    "#### Preparing X and Y variables"
   ]
  },
  {
   "cell_type": "code",
   "execution_count": 4,
   "metadata": {},
   "outputs": [],
   "source": [
    "# Set negative values to zero\n",
    "combined_df['DEP_DELAY_NEW'] = combined_df['DEP_DELAY_NEW'].apply(lambda x: 0 if x < 0 else x)\n",
    "\n",
    "# Remove rows where the value is greater than 180\n",
    "combined_df = combined_df[combined_df['DEP_DELAY_NEW'] <= 180]\n",
    "\n",
    "# Filter the rows where ORIGIN is one of 'JFK', 'EWR', 'LGA', 'HPN'\n",
    "filtered_combined_df = combined_df[combined_df['ORIGIN'].isin(['JFK', 'EWR', 'LGA', 'HPN'])]\n",
    "\n",
    "combined_df.to_csv('flights_cleaned.csv', index=False)\n",
    "\n",
    "# Update the original DataFrame\n",
    "X = filtered_combined_df.copy()"
   ]
  },
  {
   "cell_type": "code",
   "execution_count": 5,
   "id": "cd613177",
   "metadata": {},
   "outputs": [
    {
     "data": {
      "text/html": [
       "<div>\n",
       "<style scoped>\n",
       "    .dataframe tbody tr th:only-of-type {\n",
       "        vertical-align: middle;\n",
       "    }\n",
       "\n",
       "    .dataframe tbody tr th {\n",
       "        vertical-align: top;\n",
       "    }\n",
       "\n",
       "    .dataframe thead th {\n",
       "        text-align: right;\n",
       "    }\n",
       "</style>\n",
       "<table border=\"1\" class=\"dataframe\">\n",
       "  <thead>\n",
       "    <tr style=\"text-align: right;\">\n",
       "      <th></th>\n",
       "      <th>QUARTER</th>\n",
       "      <th>MONTH</th>\n",
       "      <th>DAY_OF_MONTH</th>\n",
       "      <th>DAY_OF_WEEK</th>\n",
       "      <th>OP_UNIQUE_CARRIER</th>\n",
       "      <th>ORIGIN</th>\n",
       "      <th>DEST</th>\n",
       "      <th>CRS_DEP_TIME</th>\n",
       "      <th>DEP_DELAY_NEW</th>\n",
       "    </tr>\n",
       "  </thead>\n",
       "  <tbody>\n",
       "    <tr>\n",
       "      <th>0</th>\n",
       "      <td>3</td>\n",
       "      <td>8</td>\n",
       "      <td>1</td>\n",
       "      <td>1</td>\n",
       "      <td>AA</td>\n",
       "      <td>JFK</td>\n",
       "      <td>BOS</td>\n",
       "      <td>2135</td>\n",
       "      <td>0.0</td>\n",
       "    </tr>\n",
       "    <tr>\n",
       "      <th>1</th>\n",
       "      <td>3</td>\n",
       "      <td>8</td>\n",
       "      <td>1</td>\n",
       "      <td>1</td>\n",
       "      <td>AA</td>\n",
       "      <td>JFK</td>\n",
       "      <td>LAX</td>\n",
       "      <td>730</td>\n",
       "      <td>0.0</td>\n",
       "    </tr>\n",
       "    <tr>\n",
       "      <th>2</th>\n",
       "      <td>3</td>\n",
       "      <td>8</td>\n",
       "      <td>1</td>\n",
       "      <td>1</td>\n",
       "      <td>AA</td>\n",
       "      <td>JFK</td>\n",
       "      <td>LAX</td>\n",
       "      <td>1845</td>\n",
       "      <td>16.0</td>\n",
       "    </tr>\n",
       "    <tr>\n",
       "      <th>3</th>\n",
       "      <td>3</td>\n",
       "      <td>8</td>\n",
       "      <td>1</td>\n",
       "      <td>1</td>\n",
       "      <td>AA</td>\n",
       "      <td>JFK</td>\n",
       "      <td>LAX</td>\n",
       "      <td>1130</td>\n",
       "      <td>0.0</td>\n",
       "    </tr>\n",
       "    <tr>\n",
       "      <th>4</th>\n",
       "      <td>3</td>\n",
       "      <td>8</td>\n",
       "      <td>1</td>\n",
       "      <td>1</td>\n",
       "      <td>AA</td>\n",
       "      <td>JFK</td>\n",
       "      <td>LAX</td>\n",
       "      <td>1030</td>\n",
       "      <td>0.0</td>\n",
       "    </tr>\n",
       "  </tbody>\n",
       "</table>\n",
       "</div>"
      ],
      "text/plain": [
       "   QUARTER  MONTH  DAY_OF_MONTH  DAY_OF_WEEK OP_UNIQUE_CARRIER ORIGIN DEST  \\\n",
       "0        3      8             1            1                AA    JFK  BOS   \n",
       "1        3      8             1            1                AA    JFK  LAX   \n",
       "2        3      8             1            1                AA    JFK  LAX   \n",
       "3        3      8             1            1                AA    JFK  LAX   \n",
       "4        3      8             1            1                AA    JFK  LAX   \n",
       "\n",
       "   CRS_DEP_TIME  DEP_DELAY_NEW  \n",
       "0          2135            0.0  \n",
       "1           730            0.0  \n",
       "2          1845           16.0  \n",
       "3          1130            0.0  \n",
       "4          1030            0.0  "
      ]
     },
     "execution_count": 5,
     "metadata": {},
     "output_type": "execute_result"
    }
   ],
   "source": [
    "X.head()"
   ]
  },
  {
   "cell_type": "code",
   "execution_count": 6,
   "id": "f237ea14",
   "metadata": {},
   "outputs": [
    {
     "name": "stdout",
     "output_type": "stream",
     "text": [
      "Categories in 'QUARTER' variable:  [3 4 2 1]\n",
      "Categories in 'MONTH' variable:  [ 8  9 10 11 12  5  2  3  4  6  7]\n",
      "Categories in 'DAY_OF_MONTH' variable:  [ 1  2  3  4  5  6  7  8  9 10 11 12 13 14 15 16 17 18 19 20 21 22 23 24\n",
      " 25 26 27 28 29 30 31]\n",
      "Categories in 'DAY_OF_WEEK' variable:  [1 2 3 4 5 6 7]\n",
      "Categories in 'OP_UNIQUE_CARRIER' variable:  ['AA' 'OH' 'OO' 'YX' 'AS' 'B6' '9E' 'DL' 'F9' 'HA' 'NK' 'G7' 'UA' 'YV'\n",
      " 'WN' 'MQ']\n",
      "Categories in 'ORIGIN' variable:  ['JFK' 'LGA' 'HPN' 'EWR']\n",
      "Categories in 'DEST' variable:  ['BOS' 'LAX' 'SFO' 'SNA' 'DCA' 'STL' 'DFW' 'MIA' 'PHX' 'ORD' 'AUS' 'CLT'\n",
      " 'RDU' 'IAH' 'LAS' 'STT' 'FLL' 'IND' 'CMH' 'CLE' 'BNA' 'MEM' 'ORF' 'XNA'\n",
      " 'PIT' 'ILM' 'SDF' 'CVG' 'MSP' 'RIC' 'GSO' 'OMA' 'DTW' 'ATL' 'CHO' 'BWI'\n",
      " 'OKC' 'ORH' 'MCI' 'ROA' 'DAY' 'SEA' 'PDX' 'SAN' 'PWM' 'SAV' 'CHS' 'JAX'\n",
      " 'PBI' 'MCO' 'ONT' 'SJU' 'BUR' 'RSW' 'ACK' 'HYA' 'SYR' 'BTV' 'BUF' 'ROC'\n",
      " 'MKE' 'MVY' 'TPA' 'DEN' 'MSY' 'SLC' 'ABQ' 'SAT' 'BQN' 'RNO' 'SRQ' 'SJC'\n",
      " 'SMF' 'MSN' 'IAD' 'ALB' 'GSP' 'BGR' 'PVD' 'AVL' 'CAE' 'TVC' 'BDL' 'TYS'\n",
      " 'BHM' 'GRR' 'MYR' 'DSM' 'PNS' 'HNL' 'ITH' 'MDW' 'HOU' 'DAL' 'BZN' 'PSE'\n",
      " 'JAC' 'EYW' 'HHH' 'FCA' 'RAP' 'SBN' 'PSP' 'LEX' 'LIT' 'TUL' 'EGE' 'MTJ'\n",
      " 'BGM' 'SCE' 'AGS']\n"
     ]
    }
   ],
   "source": [
    "categorical_columns = [\"QUARTER\", \"MONTH\", \"DAY_OF_MONTH\", \"DAY_OF_WEEK\", \n",
    "                                   \"OP_UNIQUE_CARRIER\", \"ORIGIN\", \"ORIGIN_CITY_NAME\", \n",
    "                                   \"DEST\", \"DEST_CITY_NAME\"]\n",
    "\n",
    "print(\"Categories in 'QUARTER' variable: \", end=\" \")\n",
    "print(combined_df['QUARTER'].unique())\n",
    "\n",
    "print(\"Categories in 'MONTH' variable: \", end=\" \")\n",
    "print(combined_df['MONTH'].unique())\n",
    "\n",
    "print(\"Categories in 'DAY_OF_MONTH' variable: \", end=\" \")\n",
    "print(combined_df['DAY_OF_MONTH'].unique())\n",
    "\n",
    "print(\"Categories in 'DAY_OF_WEEK' variable: \", end=\" \")\n",
    "print(combined_df['DAY_OF_WEEK'].unique())\n",
    "\n",
    "print(\"Categories in 'OP_UNIQUE_CARRIER' variable: \", end=\" \")\n",
    "print(combined_df['OP_UNIQUE_CARRIER'].unique())\n",
    "\n",
    "print(\"Categories in 'ORIGIN' variable: \", end=\" \")\n",
    "print(combined_df['ORIGIN'].unique())\n",
    "\n",
    "print(\"Categories in 'DEST' variable: \", end=\" \")\n",
    "print(combined_df['DEST'].unique())"
   ]
  },
  {
   "cell_type": "code",
   "execution_count": 7,
   "metadata": {},
   "outputs": [
    {
     "name": "stdout",
     "output_type": "stream",
     "text": [
      "<class 'pandas.core.frame.DataFrame'>\n",
      "RangeIndex: 310731 entries, 0 to 310730\n",
      "Data columns (total 9 columns):\n",
      " #   Column             Non-Null Count   Dtype  \n",
      "---  ------             --------------   -----  \n",
      " 0   QUARTER            310731 non-null  int64  \n",
      " 1   MONTH              310731 non-null  int64  \n",
      " 2   DAY_OF_MONTH       310731 non-null  int64  \n",
      " 3   DAY_OF_WEEK        310731 non-null  int64  \n",
      " 4   OP_UNIQUE_CARRIER  310731 non-null  object \n",
      " 5   ORIGIN             310731 non-null  object \n",
      " 6   DEST               310731 non-null  object \n",
      " 7   CRS_DEP_TIME       310731 non-null  int64  \n",
      " 8   DEP_DELAY_NEW      310731 non-null  float64\n",
      "dtypes: float64(1), int64(5), object(3)\n",
      "memory usage: 21.3+ MB\n"
     ]
    }
   ],
   "source": [
    "X.info()"
   ]
  },
  {
   "cell_type": "code",
   "execution_count": 8,
   "metadata": {},
   "outputs": [
    {
     "name": "stdout",
     "output_type": "stream",
     "text": [
      "<class 'pandas.core.frame.DataFrame'>\n",
      "RangeIndex: 310731 entries, 0 to 310730\n",
      "Data columns (total 9 columns):\n",
      " #   Column             Non-Null Count   Dtype  \n",
      "---  ------             --------------   -----  \n",
      " 0   QUARTER            310731 non-null  object \n",
      " 1   MONTH              310731 non-null  object \n",
      " 2   DAY_OF_MONTH       310731 non-null  object \n",
      " 3   DAY_OF_WEEK        310731 non-null  object \n",
      " 4   OP_UNIQUE_CARRIER  310731 non-null  object \n",
      " 5   ORIGIN             310731 non-null  object \n",
      " 6   DEST               310731 non-null  object \n",
      " 7   CRS_DEP_TIME       310731 non-null  int64  \n",
      " 8   DEP_DELAY_NEW      310731 non-null  float64\n",
      "dtypes: float64(1), int64(1), object(7)\n",
      "memory usage: 21.3+ MB\n"
     ]
    }
   ],
   "source": [
    "X['QUARTER'] = X['QUARTER'].astype('object')\n",
    "X['MONTH'] = X['MONTH'].astype('object')\n",
    "X['DAY_OF_WEEK'] = X['DAY_OF_WEEK'].astype('object')\n",
    "X['DAY_OF_MONTH'] = X['DAY_OF_MONTH'].astype('object')\n",
    "X.info()"
   ]
  },
  {
   "cell_type": "code",
   "execution_count": 9,
   "metadata": {},
   "outputs": [
    {
     "data": {
      "text/html": [
       "<div>\n",
       "<style scoped>\n",
       "    .dataframe tbody tr th:only-of-type {\n",
       "        vertical-align: middle;\n",
       "    }\n",
       "\n",
       "    .dataframe tbody tr th {\n",
       "        vertical-align: top;\n",
       "    }\n",
       "\n",
       "    .dataframe thead th {\n",
       "        text-align: right;\n",
       "    }\n",
       "</style>\n",
       "<table border=\"1\" class=\"dataframe\">\n",
       "  <thead>\n",
       "    <tr style=\"text-align: right;\">\n",
       "      <th></th>\n",
       "      <th>QUARTER</th>\n",
       "      <th>MONTH</th>\n",
       "      <th>DAY_OF_MONTH</th>\n",
       "      <th>DAY_OF_WEEK</th>\n",
       "      <th>OP_UNIQUE_CARRIER</th>\n",
       "      <th>ORIGIN</th>\n",
       "      <th>DEST</th>\n",
       "      <th>CRS_DEP_TIME</th>\n",
       "    </tr>\n",
       "  </thead>\n",
       "  <tbody>\n",
       "    <tr>\n",
       "      <th>0</th>\n",
       "      <td>3</td>\n",
       "      <td>8</td>\n",
       "      <td>1</td>\n",
       "      <td>1</td>\n",
       "      <td>AA</td>\n",
       "      <td>JFK</td>\n",
       "      <td>BOS</td>\n",
       "      <td>2135</td>\n",
       "    </tr>\n",
       "    <tr>\n",
       "      <th>1</th>\n",
       "      <td>3</td>\n",
       "      <td>8</td>\n",
       "      <td>1</td>\n",
       "      <td>1</td>\n",
       "      <td>AA</td>\n",
       "      <td>JFK</td>\n",
       "      <td>LAX</td>\n",
       "      <td>730</td>\n",
       "    </tr>\n",
       "    <tr>\n",
       "      <th>2</th>\n",
       "      <td>3</td>\n",
       "      <td>8</td>\n",
       "      <td>1</td>\n",
       "      <td>1</td>\n",
       "      <td>AA</td>\n",
       "      <td>JFK</td>\n",
       "      <td>LAX</td>\n",
       "      <td>1845</td>\n",
       "    </tr>\n",
       "    <tr>\n",
       "      <th>3</th>\n",
       "      <td>3</td>\n",
       "      <td>8</td>\n",
       "      <td>1</td>\n",
       "      <td>1</td>\n",
       "      <td>AA</td>\n",
       "      <td>JFK</td>\n",
       "      <td>LAX</td>\n",
       "      <td>1130</td>\n",
       "    </tr>\n",
       "    <tr>\n",
       "      <th>4</th>\n",
       "      <td>3</td>\n",
       "      <td>8</td>\n",
       "      <td>1</td>\n",
       "      <td>1</td>\n",
       "      <td>AA</td>\n",
       "      <td>JFK</td>\n",
       "      <td>LAX</td>\n",
       "      <td>1030</td>\n",
       "    </tr>\n",
       "    <tr>\n",
       "      <th>...</th>\n",
       "      <td>...</td>\n",
       "      <td>...</td>\n",
       "      <td>...</td>\n",
       "      <td>...</td>\n",
       "      <td>...</td>\n",
       "      <td>...</td>\n",
       "      <td>...</td>\n",
       "      <td>...</td>\n",
       "    </tr>\n",
       "    <tr>\n",
       "      <th>310726</th>\n",
       "      <td>3</td>\n",
       "      <td>8</td>\n",
       "      <td>31</td>\n",
       "      <td>4</td>\n",
       "      <td>WN</td>\n",
       "      <td>LGA</td>\n",
       "      <td>TPA</td>\n",
       "      <td>1820</td>\n",
       "    </tr>\n",
       "    <tr>\n",
       "      <th>310727</th>\n",
       "      <td>3</td>\n",
       "      <td>8</td>\n",
       "      <td>31</td>\n",
       "      <td>4</td>\n",
       "      <td>WN</td>\n",
       "      <td>LGA</td>\n",
       "      <td>STL</td>\n",
       "      <td>1525</td>\n",
       "    </tr>\n",
       "    <tr>\n",
       "      <th>310728</th>\n",
       "      <td>3</td>\n",
       "      <td>8</td>\n",
       "      <td>31</td>\n",
       "      <td>4</td>\n",
       "      <td>WN</td>\n",
       "      <td>LGA</td>\n",
       "      <td>BNA</td>\n",
       "      <td>1855</td>\n",
       "    </tr>\n",
       "    <tr>\n",
       "      <th>310729</th>\n",
       "      <td>3</td>\n",
       "      <td>8</td>\n",
       "      <td>31</td>\n",
       "      <td>4</td>\n",
       "      <td>WN</td>\n",
       "      <td>LGA</td>\n",
       "      <td>ATL</td>\n",
       "      <td>1055</td>\n",
       "    </tr>\n",
       "    <tr>\n",
       "      <th>310730</th>\n",
       "      <td>3</td>\n",
       "      <td>8</td>\n",
       "      <td>31</td>\n",
       "      <td>4</td>\n",
       "      <td>WN</td>\n",
       "      <td>LGA</td>\n",
       "      <td>MDW</td>\n",
       "      <td>600</td>\n",
       "    </tr>\n",
       "  </tbody>\n",
       "</table>\n",
       "<p>310731 rows × 8 columns</p>\n",
       "</div>"
      ],
      "text/plain": [
       "       QUARTER MONTH DAY_OF_MONTH DAY_OF_WEEK OP_UNIQUE_CARRIER ORIGIN DEST  \\\n",
       "0            3     8            1           1                AA    JFK  BOS   \n",
       "1            3     8            1           1                AA    JFK  LAX   \n",
       "2            3     8            1           1                AA    JFK  LAX   \n",
       "3            3     8            1           1                AA    JFK  LAX   \n",
       "4            3     8            1           1                AA    JFK  LAX   \n",
       "...        ...   ...          ...         ...               ...    ...  ...   \n",
       "310726       3     8           31           4                WN    LGA  TPA   \n",
       "310727       3     8           31           4                WN    LGA  STL   \n",
       "310728       3     8           31           4                WN    LGA  BNA   \n",
       "310729       3     8           31           4                WN    LGA  ATL   \n",
       "310730       3     8           31           4                WN    LGA  MDW   \n",
       "\n",
       "        CRS_DEP_TIME  \n",
       "0               2135  \n",
       "1                730  \n",
       "2               1845  \n",
       "3               1130  \n",
       "4               1030  \n",
       "...              ...  \n",
       "310726          1820  \n",
       "310727          1525  \n",
       "310728          1855  \n",
       "310729          1055  \n",
       "310730           600  \n",
       "\n",
       "[310731 rows x 8 columns]"
      ]
     },
     "execution_count": 9,
     "metadata": {},
     "output_type": "execute_result"
    }
   ],
   "source": [
    "X = X.drop(columns=['DEP_DELAY_NEW'])\n",
    "X"
   ]
  },
  {
   "cell_type": "code",
   "execution_count": 10,
   "id": "924b7f9d",
   "metadata": {},
   "outputs": [],
   "source": [
    "y = combined_df['DEP_DELAY_NEW']"
   ]
  },
  {
   "cell_type": "code",
   "execution_count": 11,
   "id": "ffc69816",
   "metadata": {},
   "outputs": [
    {
     "data": {
      "text/plain": [
       "count    310731.000000\n",
       "mean         12.596152\n",
       "std          28.877869\n",
       "min           0.000000\n",
       "25%           0.000000\n",
       "50%           0.000000\n",
       "75%           9.000000\n",
       "max         180.000000\n",
       "Name: DEP_DELAY_NEW, dtype: float64"
      ]
     },
     "execution_count": 11,
     "metadata": {},
     "output_type": "execute_result"
    }
   ],
   "source": [
    "y.describe()"
   ]
  },
  {
   "cell_type": "code",
   "execution_count": 12,
   "id": "1e290fe3",
   "metadata": {},
   "outputs": [],
   "source": [
    "# Create Column Transformer with 3 types of transformers\n",
    "num_features = X.select_dtypes(exclude=\"object\").columns\n",
    "cat_features = X.select_dtypes(include=\"object\").columns\n",
    "\n",
    "from sklearn.preprocessing import OneHotEncoder, StandardScaler\n",
    "from sklearn.compose import ColumnTransformer\n",
    "\n",
    "numeric_transformer = StandardScaler()\n",
    "oh_transformer = OneHotEncoder()\n",
    "\n",
    "preprocessor = ColumnTransformer(\n",
    "    [\n",
    "        (\"OneHotEncoder\", oh_transformer, cat_features),\n",
    "         (\"StandardScaler\", numeric_transformer, num_features),        \n",
    "    ]\n",
    ")"
   ]
  },
  {
   "cell_type": "code",
   "execution_count": 13,
   "id": "9c68f99a",
   "metadata": {},
   "outputs": [],
   "source": [
    "X = preprocessor.fit_transform(X)"
   ]
  },
  {
   "cell_type": "code",
   "execution_count": 14,
   "id": "72459f1d",
   "metadata": {},
   "outputs": [
    {
     "data": {
      "text/plain": [
       "(310731, 185)"
      ]
     },
     "execution_count": 14,
     "metadata": {},
     "output_type": "execute_result"
    }
   ],
   "source": [
    "X.shape"
   ]
  },
  {
   "cell_type": "code",
   "execution_count": 15,
   "id": "ed5c4e99",
   "metadata": {},
   "outputs": [
    {
     "data": {
      "text/plain": [
       "((248584, 185), (62147, 185))"
      ]
     },
     "execution_count": 15,
     "metadata": {},
     "output_type": "execute_result"
    }
   ],
   "source": [
    "# separate dataset into train and test\n",
    "from sklearn.model_selection import train_test_split\n",
    "X_train, X_test, y_train, y_test = train_test_split(X,y,test_size=0.2,random_state=42)\n",
    "X_train.shape, X_test.shape"
   ]
  },
  {
   "cell_type": "markdown",
   "id": "4cd80317",
   "metadata": {},
   "source": [
    "#### Create an Evaluate Function to give all metrics after model Training"
   ]
  },
  {
   "cell_type": "code",
   "execution_count": 16,
   "id": "8c247bd0",
   "metadata": {},
   "outputs": [],
   "source": [
    "def evaluate_model(y_true, y_pred):\n",
    "    mae = mean_absolute_error(y_true, y_pred)\n",
    "    rmse = np.sqrt(mean_squared_error(y_true, y_pred))\n",
    "    return mae, rmse"
   ]
  },
  {
   "cell_type": "code",
   "execution_count": 22,
   "id": "79ccb8e7",
   "metadata": {
    "scrolled": false
   },
   "outputs": [
    {
     "name": "stdout",
     "output_type": "stream",
     "text": [
      "Linear Regression\n",
      "Model performance for Training set\n",
      "- MAE: 16.8046\n",
      "- RMSE: 27.7701\n",
      "Model performance for Test set\n",
      "- MAE: 16.8572\n",
      "- RMSE: 27.8381\n",
      "===================================\n",
      "Decision Tree\n",
      "Model performance for Training set\n",
      "- MAE: 0.0133\n",
      "- RMSE: 0.7255\n",
      "Model performance for Test set\n",
      "- MAE: 16.6491\n",
      "- RMSE: 35.1422\n",
      "===================================\n",
      "XGBRegressor\n",
      "Model performance for Training set\n",
      "- MAE: 14.9046\n",
      "- RMSE: 25.3506\n",
      "Model performance for Test set\n",
      "- MAE: 15.3780\n",
      "- RMSE: 26.3142\n",
      "===================================\n",
      "[LightGBM] [Info] Auto-choosing row-wise multi-threading, the overhead of testing was 0.001654 seconds.\n",
      "You can set `force_row_wise=true` to remove the overhead.\n",
      "And if memory is not enough, you can set `force_col_wise=true`.\n",
      "[LightGBM] [Info] Total Bins 607\n",
      "[LightGBM] [Info] Number of data points in the train set: 248584, number of used features: 179\n",
      "[LightGBM] [Info] Start training from score 12.606334\n"
     ]
    },
    {
     "name": "stderr",
     "output_type": "stream",
     "text": [
      "c:\\Users\\robjo\\mlproject\\venv\\lib\\site-packages\\joblib\\externals\\loky\\backend\\context.py:136: UserWarning: Could not find the number of physical cores for the following reason:\n",
      "found 0 physical cores < 1\n",
      "Returning the number of logical cores instead. You can silence this warning by setting LOKY_MAX_CPU_COUNT to the number of cores you want to use.\n",
      "  warnings.warn(\n",
      "  File \"c:\\Users\\robjo\\mlproject\\venv\\lib\\site-packages\\joblib\\externals\\loky\\backend\\context.py\", line 282, in _count_physical_cores\n",
      "    raise ValueError(f\"found {cpu_count_physical} physical cores < 1\")\n"
     ]
    },
    {
     "name": "stdout",
     "output_type": "stream",
     "text": [
      "LightGBM Regressor\n",
      "Model performance for Training set\n",
      "- MAE: 15.5357\n",
      "- RMSE: 26.1706\n",
      "Model performance for Test set\n",
      "- MAE: 15.6180\n",
      "- RMSE: 26.3801\n",
      "===================================\n",
      "Random Forest Regressor\n",
      "Model performance for Training set\n",
      "- MAE: 5.3550\n",
      "- RMSE: 10.0733\n",
      "Model performance for Test set\n",
      "- MAE: 14.4602\n",
      "- RMSE: 27.0084\n",
      "===================================\n",
      "Best Model: Random Forest Regressor\n",
      "                Model Name        MAE\n",
      "4  Random Forest Regressor  14.460186\n",
      "2             XGBRegressor  15.378049\n",
      "3       LightGBM Regressor  15.618008\n",
      "1            Decision Tree  16.649074\n",
      "0        Linear Regression  16.857178\n"
     ]
    }
   ],
   "source": [
    "import numpy as np\n",
    "import pandas as pd\n",
    "import pickle\n",
    "from sklearn.model_selection import train_test_split\n",
    "from sklearn.metrics import mean_absolute_error, mean_squared_error\n",
    "from sklearn.linear_model import LinearRegression, Lasso, Ridge\n",
    "from sklearn.tree import DecisionTreeRegressor\n",
    "from xgboost import XGBRegressor\n",
    "from lightgbm import LGBMRegressor\n",
    "\n",
    "# Define your evaluate_model function here\n",
    "# def evaluate_model(true_values, predictions):\n",
    "#    mae = mean_absolute_error(true_values, predictions)\n",
    "#    rmse = np.sqrt(mean_squared_error(true_values, predictions))\n",
    "#    return mae, rmse\n",
    "\n",
    "# Assuming X_train, X_test, y_train, y_test are already defined\n",
    "models = {\n",
    "    \"Linear Regression\": LinearRegression(),\n",
    "    \"Decision Tree\": DecisionTreeRegressor(),\n",
    "    \"XGBRegressor\": XGBRegressor(),\n",
    "    \"LightGBM Regressor\": LGBMRegressor(),\n",
    "    \"Random Forest Regressor\": RandomForestRegressor(),\n",
    "    # Neural Network will be defined separately\n",
    "}\n",
    "\n",
    "model_list = []\n",
    "mae_list = []\n",
    "\n",
    "# Train and evaluate each model\n",
    "for name, model in models.items():\n",
    "    model.fit(X_train, y_train)\n",
    "\n",
    "    y_train_pred = model.predict(X_train)\n",
    "    y_test_pred = model.predict(X_test)\n",
    "\n",
    "    model_train_mae, model_train_rmse = evaluate_model(y_train, y_train_pred)\n",
    "    model_test_mae, model_test_rmse = evaluate_model(y_test, y_test_pred)\n",
    "\n",
    "    print(name)\n",
    "    model_list.append(name)\n",
    "\n",
    "    print('Model performance for Training set')\n",
    "    print(\"- MAE: {:.4f}\".format(model_train_mae))\n",
    "    print(\"- RMSE: {:.4f}\".format(model_train_rmse))\n",
    "\n",
    "    print('Model performance for Test set')\n",
    "    print(\"- MAE: {:.4f}\".format(model_test_mae))\n",
    "    print(\"- RMSE: {:.4f}\".format(model_test_rmse))\n",
    "\n",
    "    mae_list.append(model_test_mae)\n",
    "    print('=' * 35)\n",
    "\n",
    "# Determine the best model\n",
    "best_model_name = min(zip(model_list, mae_list), key=lambda x: x[1])[0]\n",
    "print(f\"Best Model: {best_model_name}\")\n",
    "\n",
    "# Save the best performing model\n",
    "best_model = models[best_model_name]\n",
    "with open('model1.pkl', 'wb') as file:\n",
    "    pickle.dump(best_model, file)\n",
    "\n",
    "# Create and print the sorted DataFrame of model performance\n",
    "mae_dataframe = pd.DataFrame(list(zip(model_list, mae_list)), columns=['Model Name', 'MAE']).sort_values(by=\"MAE\", ascending=True)\n",
    "print(mae_dataframe)\n"
   ]
  },
  {
   "cell_type": "markdown",
   "id": "06480b5a",
   "metadata": {},
   "source": [
    "### Results"
   ]
  },
  {
   "cell_type": "code",
   "execution_count": 17,
   "metadata": {},
   "outputs": [
    {
     "name": "stdout",
     "output_type": "stream",
     "text": [
      "Predicted Output: 130.5\n"
     ]
    }
   ],
   "source": [
    "import pandas as pd\n",
    "import pickle\n",
    "from sklearn.compose import ColumnTransformer\n",
    "\n",
    "# Load the saved Scikit-learn model\n",
    "with open('model1.pkl', 'rb') as file:\n",
    "    model = pickle.load(file)\n",
    "\n",
    "# Example new data with appropriate data types\n",
    "new_data = pd.DataFrame({\n",
    "    'QUARTER': [3],\n",
    "    'MONTH': [8],\n",
    "    'DAY_OF_MONTH': [6],\n",
    "    'DAY_OF_WEEK': [6],\n",
    "    'OP_UNIQUE_CARRIER': ['B6'],\n",
    "    'ORIGIN': ['JFK'],\n",
    "    'DEST': ['LAX'],\n",
    "    'CRS_DEP_TIME': [1920]\n",
    "})\n",
    "\n",
    "# Convert data types to match training data\n",
    "new_data['QUARTER'] = new_data['QUARTER'].astype('object')\n",
    "new_data['MONTH'] = new_data['MONTH'].astype('object')\n",
    "new_data['DAY_OF_WEEK'] = new_data['DAY_OF_WEEK'].astype('object')\n",
    "new_data['DAY_OF_MONTH'] = new_data['DAY_OF_MONTH'].astype('object')\n",
    "# Repeat for other columns as necessary\n",
    "\n",
    "# Check for NaN values and handle them appropriately\n",
    "# new_data = new_data.fillna(method='ffill')  # Example: forward fill\n",
    "\n",
    "# Preprocess the new data using the same transformations as during training\n",
    "# Assuming 'preprocessor' is already defined and loaded\n",
    "prepared_data = preprocessor.transform(new_data)\n",
    "\n",
    "# Make predictions\n",
    "predicted_output = model.predict(prepared_data)\n",
    "print(f\"Predicted Output: {predicted_output[0]}\")"
   ]
  },
  {
   "cell_type": "code",
   "execution_count": 17,
   "id": "e0159e5f",
   "metadata": {},
   "outputs": [
    {
     "name": "stdout",
     "output_type": "stream",
     "text": [
      "           Model Name        MAE\n",
      "4      Neural Network  15.423576\n",
      "2        XGBRegressor  15.546766\n",
      "3  LightGBM Regressor  15.728111\n",
      "0   Linear Regression  16.934628\n",
      "1       Decision Tree  18.907695\n"
     ]
    }
   ],
   "source": [
    "import pandas as pd\n",
    "\n",
    "# Assuming model_list and mae_list are already populated from the model evaluation loop\n",
    "mae_dataframe = pd.DataFrame(list(zip(model_list, mae_list)), columns=['Model Name', 'MAE']).sort_values(by=[\"MAE\"], ascending=True)\n",
    "\n",
    "# Print the sorted DataFrame\n",
    "print(mae_dataframe)\n"
   ]
  },
  {
   "cell_type": "markdown",
   "id": "357a7c1c",
   "metadata": {},
   "source": [
    "## Linear Regression"
   ]
  },
  {
   "cell_type": "code",
   "execution_count": 18,
   "id": "9a6ad559",
   "metadata": {},
   "outputs": [
    {
     "name": "stdout",
     "output_type": "stream",
     "text": [
      "1943/1943 [==============================] - 1s 523us/step\n",
      "Mean Absolute Error of the neural network model is 15.42\n"
     ]
    }
   ],
   "source": [
    "from sklearn.metrics import mean_absolute_error\n",
    "\n",
    "# Assuming nn_model is your trained neural network model\n",
    "# Ensure X_test_dense is the preprocessed test set appropriate for the neural network\n",
    "\n",
    "y_pred_nn = nn_model.predict(X_test_dense)\n",
    "mae_nn = mean_absolute_error(y_test, y_pred_nn)\n",
    "print(\"Mean Absolute Error of the neural network model is %.2f\" % mae_nn)\n"
   ]
  },
  {
   "cell_type": "markdown",
   "id": "1d31453e",
   "metadata": {},
   "source": [
    "## Plot y_pred and y_test"
   ]
  },
  {
   "cell_type": "code",
   "execution_count": 19,
   "id": "eb557b0a",
   "metadata": {},
   "outputs": [
    {
     "data": {
      "image/png": "[encoded data removed]",
      "text/plain": [
       "<Figure size 640x480 with 1 Axes>"
      ]
     },
     "metadata": {},
     "output_type": "display_data"
    }
   ],
   "source": [
    "plt.scatter(y_test,y_pred_nn);\n",
    "plt.xlabel('Actual');\n",
    "plt.ylabel('Predicted');"
   ]
  },
  {
   "cell_type": "code",
   "execution_count": 20,
   "id": "1e707ec3",
   "metadata": {},
   "outputs": [
    {
     "data": {
      "image/png": "[encoded data removed]",
      "text/plain": [
       "<Figure size 640x480 with 1 Axes>"
      ]
     },
     "metadata": {},
     "output_type": "display_data"
    }
   ],
   "source": [
    "sns.regplot(x=y_test,y=y_pred_nn,ci=None,color ='red');"
   ]
  },
  {
   "cell_type": "markdown",
   "id": "79c2fe28",
   "metadata": {},
   "source": [
    "#### Difference between Actual and Predicted Values"
   ]
  },
  {
   "cell_type": "code",
   "execution_count": 21,
   "id": "7c9a8b48",
   "metadata": {},
   "outputs": [
    {
     "name": "stdout",
     "output_type": "stream",
     "text": [
      "       Actual Value  Predicted Value  Difference\n",
      "0               0.0         4.932702   -4.932702\n",
      "1               4.0        14.270229  -10.270229\n",
      "2               0.0         8.088512   -8.088512\n",
      "3               0.0         7.434288   -7.434288\n",
      "4               0.0        12.241259  -12.241259\n",
      "...             ...              ...         ...\n",
      "62142           0.0        10.563841  -10.563841\n",
      "62143           0.0         7.693949   -7.693949\n",
      "62144          46.0        22.237930   23.762070\n",
      "62145           0.0        15.196465  -15.196465\n",
      "62146           0.0        24.675175  -24.675175\n",
      "\n",
      "[62147 rows x 3 columns]\n"
     ]
    }
   ],
   "source": [
    "# Flatten the predicted values to 1D if they are in 2D format\n",
    "y_pred_nn_flat = y_pred_nn.flatten()\n",
    "\n",
    "# Create a DataFrame with actual and predicted values\n",
    "pred_df = pd.DataFrame({\n",
    "    'Actual Value': y_test,\n",
    "    'Predicted Value': y_pred_nn_flat,\n",
    "    'Difference': y_test - y_pred_nn_flat\n",
    "})\n",
    "\n",
    "print(pred_df)"
   ]
  },
  {
   "cell_type": "code",
   "execution_count": null,
   "id": "3acf1fbc",
   "metadata": {},
   "outputs": [],
   "source": []
  }
 ],
 "metadata": {
  "kernelspec": {
   "display_name": "Python 3 (ipykernel)",
   "language": "python",
   "name": "python3"
  },
  "language_info": {
   "codemirror_mode": {
    "name": "ipython",
    "version": 3
   },
   "file_extension": ".py",
   "mimetype": "text/x-python",
   "name": "python",
   "nbconvert_exporter": "python",
   "pygments_lexer": "ipython3",
   "version": "3.8.18"
  }
 },
 "nbformat": 4,
 "nbformat_minor": 5
}
